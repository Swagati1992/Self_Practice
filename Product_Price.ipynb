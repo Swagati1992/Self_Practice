{
 "cells": [
  {
   "cell_type": "code",
   "execution_count": 12,
   "id": "c73303d7",
   "metadata": {},
   "outputs": [],
   "source": [
    "#creating product and its price\n",
    "p1_name,p1_price=\"ML\",100.09\n",
    "p2_name,p2_price=\"Deep Learning\",350.00\n",
    "p3_name,p3_price=\"NLP\",260.00"
   ]
  },
  {
   "cell_type": "code",
   "execution_count": 13,
   "id": "9d7b25b0",
   "metadata": {},
   "outputs": [],
   "source": [
    "#creating company name and info\n",
    "company_name=\"coding temple, inc.\"\n",
    "company_address=\"283 Franklin St.\"\n",
    "company_city=\"Boston, MA\""
   ]
  },
  {
   "cell_type": "code",
   "execution_count": 14,
   "id": "a45cca61",
   "metadata": {},
   "outputs": [],
   "source": [
    "#Declaring ending message\n",
    "message=\"Thank you for shopping with us today!\""
   ]
  },
  {
   "cell_type": "code",
   "execution_count": 15,
   "id": "29cd529c",
   "metadata": {},
   "outputs": [
    {
     "name": "stdout",
     "output_type": "stream",
     "text": [
      "**************************************************\n",
      "\t\tCoding Temple, Inc.\n",
      "\t\t283 Franklin St.\n",
      "\t\tBoston, MA\n",
      "**************************************************\n",
      "\tProduct Name\tProduct Price\n",
      "\tMl\t\t$100.09\n",
      "\tDeep Learning\t$350.0\n",
      "\tNlp\t\t$260.0\n",
      "==================================================\n",
      "\t\t\tTotal\n",
      "\t\t\t$710.09\n",
      "==================================================\n",
      "\n",
      "\tThank you for shopping with us today!\n",
      "\n",
      "**************************************************\n"
     ]
    }
   ],
   "source": [
    "#Top border\n",
    "print(\"*\"*50)\n",
    "\n",
    "print(\"\\t\\t{}\".format(company_name.title()))\n",
    "print(\"\\t\\t{}\".format(company_address))\n",
    "print(\"\\t\\t{}\".format(company_city))\n",
    "\n",
    "#printing line betn sections\n",
    "print(\"*\"*50)\n",
    "\n",
    "#printing out header for items section\n",
    "print(\"\\tProduct Name\\tProduct Price\")\n",
    "\n",
    "#Creating statement for each product\n",
    "print(\"\\t{}\\t\\t${}\".format(p1_name.title(),p1_price))\n",
    "print(\"\\t{}\\t${}\".format(p2_name.title(),p2_price))\n",
    "print(\"\\t{}\\t\\t${}\".format(p3_name.title(),p3_price))\n",
    "\n",
    "#printing line betn sections\n",
    "print(\"=\"*50)\n",
    "\n",
    "#Header section for total\n",
    "print(\"\\t\\t\\tTotal\")\n",
    "\n",
    "#Calculating total price and print out\n",
    "total = p1_price+p2_price+p3_price\n",
    "print(\"\\t\\t\\t${}\".format(total))\n",
    "print(\"=\"*50)\n",
    "\n",
    "#Printing thank you message\n",
    "print(\"\\n\\t{}\\n\".format(message))\n",
    "print(\"*\"*50)"
   ]
  },
  {
   "cell_type": "code",
   "execution_count": 16,
   "id": "af329e48",
   "metadata": {},
   "outputs": [
    {
     "name": "stdout",
     "output_type": "stream",
     "text": [
      "\t\tCoding Temple, Inc.\n",
      "\t\t283 Franklin St.\n",
      "\t\tBoston, MA\n",
      "**************************************************\n",
      "\tProduct Name\tProduct Price\n",
      "\tDeep Learning\t\t$350.0\n",
      "==================================================\n",
      "\t\t\tTotal\n",
      "\t\t\t$350.0\n",
      "==================================================\n",
      "\n",
      "\tThank you for shopping with us today!\n",
      "\n",
      "**************************************************\n"
     ]
    }
   ],
   "source": [
    "#Printing another bill\n",
    "print(\"\\t\\t{}\".format(company_name.title()))\n",
    "print(\"\\t\\t{}\".format(company_address))\n",
    "print(\"\\t\\t{}\".format(company_city))\n",
    "print(\"*\"*50)\n",
    "print(\"\\tProduct Name\\tProduct Price\")\n",
    "print(\"\\t{}\\t\\t${}\".format(p2_name.title(),p2_price))\n",
    "print(\"=\"*50)\n",
    "print(\"\\t\\t\\tTotal\")\n",
    "total=p2_price\n",
    "print(\"\\t\\t\\t${}\".format(total))\n",
    "print(\"=\"*50)\n",
    "print(\"\\n\\t{}\\n\".format(message))\n",
    "print(\"*\"*50)"
   ]
  },
  {
   "cell_type": "code",
   "execution_count": null,
   "id": "4420861e",
   "metadata": {},
   "outputs": [],
   "source": []
  }
 ],
 "metadata": {
  "kernelspec": {
   "display_name": "Python 3 (ipykernel)",
   "language": "python",
   "name": "python3"
  },
  "language_info": {
   "codemirror_mode": {
    "name": "ipython",
    "version": 3
   },
   "file_extension": ".py",
   "mimetype": "text/x-python",
   "name": "python",
   "nbconvert_exporter": "python",
   "pygments_lexer": "ipython3",
   "version": "3.9.13"
  }
 },
 "nbformat": 4,
 "nbformat_minor": 5
}
