{
 "cells": [
  {
   "cell_type": "code",
   "execution_count": 1,
   "id": "f78c7464",
   "metadata": {},
   "outputs": [],
   "source": [
    "import random"
   ]
  },
  {
   "cell_type": "code",
   "execution_count": 4,
   "id": "9e1025f4",
   "metadata": {},
   "outputs": [
    {
     "name": "stdout",
     "output_type": "stream",
     "text": [
      "Rock,Paper,ScissorsScissors\n",
      "comp is:\n",
      " ['Rock'] \n",
      "player is:\n",
      " Scissors\n",
      "Player Wins!\n"
     ]
    }
   ],
   "source": [
    "player=str(input(\"Rock,Paper,Scissors\"))\n",
    "comp=['Rock','Paper','Scissors']\n",
    "pc=random.choices(comp)\n",
    "print(\"comp is:\\n\",pc,\"\\nplayer is:\\n\",player)\n",
    "if player==\"Rock\":\n",
    "    if comp==\"Rock\":\n",
    "        print(\"It's a tie!\")\n",
    "    elif comp==\"Scissors\":\n",
    "        print(\"Player Wins!\")\n",
    "    else:\n",
    "        print(\"computer wins!\")\n",
    "elif player=='Scissors':\n",
    "    if comp==\"Scissors\":\n",
    "        print(\"It's a tie!\")\n",
    "    elif comp==\"Rock\":\n",
    "        print(\"Computer Wins!\")\n",
    "    else:\n",
    "        print(\"Player Wins!\")\n",
    "else:\n",
    "    if comp=='Rock':\n",
    "        print(\"Player Wins!\")\n",
    "    elif comp==\"Scissors\":\n",
    "        print(\"Computer Wins!\")\n",
    "    else:\n",
    "        print(\"It's a tie!\")"
   ]
  },
  {
   "cell_type": "code",
   "execution_count": null,
   "id": "24ef73a0",
   "metadata": {},
   "outputs": [],
   "source": []
  }
 ],
 "metadata": {
  "kernelspec": {
   "display_name": "Python 3 (ipykernel)",
   "language": "python",
   "name": "python3"
  },
  "language_info": {
   "codemirror_mode": {
    "name": "ipython",
    "version": 3
   },
   "file_extension": ".py",
   "mimetype": "text/x-python",
   "name": "python",
   "nbconvert_exporter": "python",
   "pygments_lexer": "ipython3",
   "version": "3.9.13"
  }
 },
 "nbformat": 4,
 "nbformat_minor": 5
}
